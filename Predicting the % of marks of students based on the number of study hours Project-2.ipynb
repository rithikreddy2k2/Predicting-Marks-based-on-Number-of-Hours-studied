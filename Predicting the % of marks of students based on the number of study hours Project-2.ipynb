{
 "cells": [
  {
   "cell_type": "markdown",
   "id": "7b330d8f",
   "metadata": {},
   "source": [
    "# Prediction using Supervised ML\n",
    "\n",
    "### To predict the percentage of marks of an student based on the number of study hours"
   ]
  },
  {
   "cell_type": "code",
   "execution_count": 1,
   "id": "e00b3b98",
   "metadata": {},
   "outputs": [],
   "source": [
    "# importing the required libraries\n",
    "import numpy as np\n",
    "import pandas as pd\n",
    "import matplotlib.pyplot as plt\n",
    "%matplotlib inline"
   ]
  },
  {
   "cell_type": "code",
   "execution_count": 2,
   "id": "670de0a7",
   "metadata": {
    "scrolled": true
   },
   "outputs": [
    {
     "name": "stdout",
     "output_type": "stream",
     "text": [
      "Data imported sucessfully\n"
     ]
    },
    {
     "data": {
      "text/html": [
       "<div>\n",
       "<style scoped>\n",
       "    .dataframe tbody tr th:only-of-type {\n",
       "        vertical-align: middle;\n",
       "    }\n",
       "\n",
       "    .dataframe tbody tr th {\n",
       "        vertical-align: top;\n",
       "    }\n",
       "\n",
       "    .dataframe thead th {\n",
       "        text-align: right;\n",
       "    }\n",
       "</style>\n",
       "<table border=\"1\" class=\"dataframe\">\n",
       "  <thead>\n",
       "    <tr style=\"text-align: right;\">\n",
       "      <th></th>\n",
       "      <th>study_hours</th>\n",
       "      <th>student_marks</th>\n",
       "    </tr>\n",
       "  </thead>\n",
       "  <tbody>\n",
       "    <tr>\n",
       "      <th>0</th>\n",
       "      <td>6.83</td>\n",
       "      <td>78.50</td>\n",
       "    </tr>\n",
       "    <tr>\n",
       "      <th>1</th>\n",
       "      <td>6.56</td>\n",
       "      <td>76.74</td>\n",
       "    </tr>\n",
       "    <tr>\n",
       "      <th>2</th>\n",
       "      <td>NaN</td>\n",
       "      <td>78.68</td>\n",
       "    </tr>\n",
       "    <tr>\n",
       "      <th>3</th>\n",
       "      <td>5.67</td>\n",
       "      <td>71.82</td>\n",
       "    </tr>\n",
       "    <tr>\n",
       "      <th>4</th>\n",
       "      <td>8.67</td>\n",
       "      <td>84.19</td>\n",
       "    </tr>\n",
       "  </tbody>\n",
       "</table>\n",
       "</div>"
      ],
      "text/plain": [
       "   study_hours  student_marks\n",
       "0         6.83          78.50\n",
       "1         6.56          76.74\n",
       "2          NaN          78.68\n",
       "3         5.67          71.82\n",
       "4         8.67          84.19"
      ]
     },
     "execution_count": 2,
     "metadata": {},
     "output_type": "execute_result"
    }
   ],
   "source": [
    "#Read the data \n",
    "df=pd.read_csv('student_info.csv')\n",
    "print('Data imported sucessfully')\n",
    "df.head()\n"
   ]
  },
  {
   "cell_type": "code",
   "execution_count": 3,
   "id": "bbb2f036",
   "metadata": {},
   "outputs": [
    {
     "data": {
      "text/html": [
       "<div>\n",
       "<style scoped>\n",
       "    .dataframe tbody tr th:only-of-type {\n",
       "        vertical-align: middle;\n",
       "    }\n",
       "\n",
       "    .dataframe tbody tr th {\n",
       "        vertical-align: top;\n",
       "    }\n",
       "\n",
       "    .dataframe thead th {\n",
       "        text-align: right;\n",
       "    }\n",
       "</style>\n",
       "<table border=\"1\" class=\"dataframe\">\n",
       "  <thead>\n",
       "    <tr style=\"text-align: right;\">\n",
       "      <th></th>\n",
       "      <th>study_hours</th>\n",
       "      <th>student_marks</th>\n",
       "    </tr>\n",
       "  </thead>\n",
       "  <tbody>\n",
       "    <tr>\n",
       "      <th>0</th>\n",
       "      <td>False</td>\n",
       "      <td>False</td>\n",
       "    </tr>\n",
       "    <tr>\n",
       "      <th>1</th>\n",
       "      <td>False</td>\n",
       "      <td>False</td>\n",
       "    </tr>\n",
       "    <tr>\n",
       "      <th>2</th>\n",
       "      <td>True</td>\n",
       "      <td>False</td>\n",
       "    </tr>\n",
       "    <tr>\n",
       "      <th>3</th>\n",
       "      <td>False</td>\n",
       "      <td>False</td>\n",
       "    </tr>\n",
       "    <tr>\n",
       "      <th>4</th>\n",
       "      <td>False</td>\n",
       "      <td>False</td>\n",
       "    </tr>\n",
       "    <tr>\n",
       "      <th>...</th>\n",
       "      <td>...</td>\n",
       "      <td>...</td>\n",
       "    </tr>\n",
       "    <tr>\n",
       "      <th>195</th>\n",
       "      <td>False</td>\n",
       "      <td>False</td>\n",
       "    </tr>\n",
       "    <tr>\n",
       "      <th>196</th>\n",
       "      <td>False</td>\n",
       "      <td>False</td>\n",
       "    </tr>\n",
       "    <tr>\n",
       "      <th>197</th>\n",
       "      <td>False</td>\n",
       "      <td>False</td>\n",
       "    </tr>\n",
       "    <tr>\n",
       "      <th>198</th>\n",
       "      <td>False</td>\n",
       "      <td>False</td>\n",
       "    </tr>\n",
       "    <tr>\n",
       "      <th>199</th>\n",
       "      <td>False</td>\n",
       "      <td>False</td>\n",
       "    </tr>\n",
       "  </tbody>\n",
       "</table>\n",
       "<p>200 rows × 2 columns</p>\n",
       "</div>"
      ],
      "text/plain": [
       "     study_hours  student_marks\n",
       "0          False          False\n",
       "1          False          False\n",
       "2           True          False\n",
       "3          False          False\n",
       "4          False          False\n",
       "..           ...            ...\n",
       "195        False          False\n",
       "196        False          False\n",
       "197        False          False\n",
       "198        False          False\n",
       "199        False          False\n",
       "\n",
       "[200 rows x 2 columns]"
      ]
     },
     "execution_count": 3,
     "metadata": {},
     "output_type": "execute_result"
    }
   ],
   "source": [
    "#Checking for nan Values\n",
    "df.isna()"
   ]
  },
  {
   "cell_type": "code",
   "execution_count": 4,
   "id": "f34d6ac3",
   "metadata": {},
   "outputs": [],
   "source": [
    "# Filling the nan values with the mean \n",
    "df=df.fillna(df.mean())"
   ]
  },
  {
   "cell_type": "code",
   "execution_count": 5,
   "id": "f005a82b",
   "metadata": {},
   "outputs": [
    {
     "data": {
      "text/html": [
       "<div>\n",
       "<style scoped>\n",
       "    .dataframe tbody tr th:only-of-type {\n",
       "        vertical-align: middle;\n",
       "    }\n",
       "\n",
       "    .dataframe tbody tr th {\n",
       "        vertical-align: top;\n",
       "    }\n",
       "\n",
       "    .dataframe thead th {\n",
       "        text-align: right;\n",
       "    }\n",
       "</style>\n",
       "<table border=\"1\" class=\"dataframe\">\n",
       "  <thead>\n",
       "    <tr style=\"text-align: right;\">\n",
       "      <th></th>\n",
       "      <th>study_hours</th>\n",
       "      <th>student_marks</th>\n",
       "    </tr>\n",
       "  </thead>\n",
       "  <tbody>\n",
       "    <tr>\n",
       "      <th>0</th>\n",
       "      <td>6.830000</td>\n",
       "      <td>78.50</td>\n",
       "    </tr>\n",
       "    <tr>\n",
       "      <th>1</th>\n",
       "      <td>6.560000</td>\n",
       "      <td>76.74</td>\n",
       "    </tr>\n",
       "    <tr>\n",
       "      <th>2</th>\n",
       "      <td>6.995949</td>\n",
       "      <td>78.68</td>\n",
       "    </tr>\n",
       "    <tr>\n",
       "      <th>3</th>\n",
       "      <td>5.670000</td>\n",
       "      <td>71.82</td>\n",
       "    </tr>\n",
       "    <tr>\n",
       "      <th>4</th>\n",
       "      <td>8.670000</td>\n",
       "      <td>84.19</td>\n",
       "    </tr>\n",
       "  </tbody>\n",
       "</table>\n",
       "</div>"
      ],
      "text/plain": [
       "   study_hours  student_marks\n",
       "0     6.830000          78.50\n",
       "1     6.560000          76.74\n",
       "2     6.995949          78.68\n",
       "3     5.670000          71.82\n",
       "4     8.670000          84.19"
      ]
     },
     "execution_count": 5,
     "metadata": {},
     "output_type": "execute_result"
    }
   ],
   "source": [
    "#Now our Data frame has no Nan values \n",
    "df.head()"
   ]
  },
  {
   "cell_type": "markdown",
   "id": "b55058f0",
   "metadata": {},
   "source": [
    "Lets plot our data on 2-D graph to eyeball our dataste and see if we can manually find any relationship between the data. "
   ]
  },
  {
   "cell_type": "markdown",
   "id": "850fc2e8",
   "metadata": {},
   "source": [
    "# PLotting the distribution of Scores Method-1"
   ]
  },
  {
   "cell_type": "code",
   "execution_count": 6,
   "id": "73cc5792",
   "metadata": {},
   "outputs": [
    {
     "data": {
      "image/png": "[encoded data removed]",
      "text/plain": [
       "<Figure size 432x288 with 1 Axes>"
      ]
     },
     "metadata": {
      "needs_background": "light"
     },
     "output_type": "display_data"
    }
   ],
   "source": [
    "df.plot(x='study_hours',y='student_marks',style='o')\n",
    "plt.title('Hours vs Percentage')\n",
    "plt.xlabel('Hours Studied')\n",
    "plt.ylabel('Percentage Scored')\n",
    "plt.show()"
   ]
  },
  {
   "cell_type": "markdown",
   "id": "7121e45a",
   "metadata": {},
   "source": [
    "# PLotting the distribution of Scores Method-2"
   ]
  },
  {
   "cell_type": "code",
   "execution_count": 7,
   "id": "7f94a6cf",
   "metadata": {
    "scrolled": true
   },
   "outputs": [
    {
     "data": {
      "image/png": "[encoded data removed]",
      "text/plain": [
       "<Figure size 432x288 with 1 Axes>"
      ]
     },
     "metadata": {
      "needs_background": "light"
     },
     "output_type": "display_data"
    }
   ],
   "source": [
    "plt.scatter(df['study_hours'],df['student_marks'])\n",
    "plt.title('Hours vs Percentage')\n",
    "plt.xlabel('Hours Studied')\n",
    "plt.ylabel('Percentage Scored')\n",
    "plt.show()"
   ]
  },
  {
   "cell_type": "markdown",
   "id": "ad5b852d",
   "metadata": {},
   "source": [
    "#### From the above Graph, we can clearly see that there is a positive linear relation between the number of hours studied and percentage of score"
   ]
  },
  {
   "cell_type": "code",
   "execution_count": 8,
   "id": "acc97803",
   "metadata": {},
   "outputs": [
    {
     "data": {
      "text/html": [
       "<div>\n",
       "<style scoped>\n",
       "    .dataframe tbody tr th:only-of-type {\n",
       "        vertical-align: middle;\n",
       "    }\n",
       "\n",
       "    .dataframe tbody tr th {\n",
       "        vertical-align: top;\n",
       "    }\n",
       "\n",
       "    .dataframe thead th {\n",
       "        text-align: right;\n",
       "    }\n",
       "</style>\n",
       "<table border=\"1\" class=\"dataframe\">\n",
       "  <thead>\n",
       "    <tr style=\"text-align: right;\">\n",
       "      <th></th>\n",
       "      <th>study_hours</th>\n",
       "      <th>student_marks</th>\n",
       "    </tr>\n",
       "  </thead>\n",
       "  <tbody>\n",
       "    <tr>\n",
       "      <th>0</th>\n",
       "      <td>6.830000</td>\n",
       "      <td>78.50</td>\n",
       "    </tr>\n",
       "    <tr>\n",
       "      <th>1</th>\n",
       "      <td>6.560000</td>\n",
       "      <td>76.74</td>\n",
       "    </tr>\n",
       "    <tr>\n",
       "      <th>2</th>\n",
       "      <td>6.995949</td>\n",
       "      <td>78.68</td>\n",
       "    </tr>\n",
       "    <tr>\n",
       "      <th>3</th>\n",
       "      <td>5.670000</td>\n",
       "      <td>71.82</td>\n",
       "    </tr>\n",
       "    <tr>\n",
       "      <th>4</th>\n",
       "      <td>8.670000</td>\n",
       "      <td>84.19</td>\n",
       "    </tr>\n",
       "  </tbody>\n",
       "</table>\n",
       "</div>"
      ],
      "text/plain": [
       "   study_hours  student_marks\n",
       "0     6.830000          78.50\n",
       "1     6.560000          76.74\n",
       "2     6.995949          78.68\n",
       "3     5.670000          71.82\n",
       "4     8.670000          84.19"
      ]
     },
     "execution_count": 8,
     "metadata": {},
     "output_type": "execute_result"
    }
   ],
   "source": [
    "df.head()"
   ]
  },
  {
   "cell_type": "markdown",
   "id": "c6007fbd",
   "metadata": {},
   "source": [
    "# Simple Linear Regression Model (SLRM)\n",
    "\n",
    "#### From the above Graph as it's clearl that there is a positive linear relation between the number of hours studied and percentage of score. Hence we use SLRM"
   ]
  },
  {
   "cell_type": "markdown",
   "id": "41ea59fb",
   "metadata": {},
   "source": [
    "### Preparing the data "
   ]
  },
  {
   "cell_type": "markdown",
   "id": "ba952b5b",
   "metadata": {},
   "source": [
    "the next step is to divide the data into \"attributes\"(inputs) and \"labels\"(outputs)"
   ]
  },
  {
   "cell_type": "markdown",
   "id": "df98b2c5",
   "metadata": {},
   "source": [
    "#### Method1"
   ]
  },
  {
   "cell_type": "code",
   "execution_count": 9,
   "id": "07eeaff8",
   "metadata": {},
   "outputs": [],
   "source": [
    "x=df.iloc[:,:-1].values\n",
    "y=df.iloc[:,1].values"
   ]
  },
  {
   "cell_type": "markdown",
   "id": "6b0f00e3",
   "metadata": {},
   "source": [
    "#### Method 2"
   ]
  },
  {
   "cell_type": "code",
   "execution_count": 10,
   "id": "a107da21",
   "metadata": {},
   "outputs": [],
   "source": [
    "x=df[['study_hours']].values\n",
    "y=df[['student_marks']].values"
   ]
  },
  {
   "cell_type": "code",
   "execution_count": 11,
   "id": "2328fa98",
   "metadata": {},
   "outputs": [
    {
     "data": {
      "text/plain": [
       "(array([[6.83      ],\n",
       "        [6.56      ],\n",
       "        [6.99594872],\n",
       "        [5.67      ],\n",
       "        [8.67      ],\n",
       "        [7.55      ],\n",
       "        [6.67      ],\n",
       "        [8.99      ],\n",
       "        [5.19      ],\n",
       "        [6.75      ],\n",
       "        [6.59      ],\n",
       "        [8.56      ],\n",
       "        [7.75      ],\n",
       "        [7.9       ],\n",
       "        [8.19      ],\n",
       "        [6.55      ],\n",
       "        [6.36      ],\n",
       "        [8.44      ],\n",
       "        [8.41      ],\n",
       "        [7.67      ],\n",
       "        [7.42      ],\n",
       "        [8.16      ],\n",
       "        [5.05      ],\n",
       "        [5.85      ],\n",
       "        [5.45      ],\n",
       "        [7.96      ],\n",
       "        [6.51      ],\n",
       "        [6.73      ],\n",
       "        [5.94      ],\n",
       "        [7.48      ],\n",
       "        [8.13      ],\n",
       "        [6.99594872],\n",
       "        [5.4       ],\n",
       "        [8.78      ],\n",
       "        [8.72      ],\n",
       "        [7.1       ],\n",
       "        [7.86      ],\n",
       "        [7.19      ],\n",
       "        [5.62      ],\n",
       "        [7.88      ],\n",
       "        [5.28      ],\n",
       "        [8.92      ],\n",
       "        [5.46      ],\n",
       "        [8.3       ],\n",
       "        [8.09      ],\n",
       "        [6.18      ],\n",
       "        [7.01      ],\n",
       "        [5.01      ],\n",
       "        [5.54      ],\n",
       "        [5.09      ],\n",
       "        [5.09      ],\n",
       "        [7.31      ],\n",
       "        [8.71      ],\n",
       "        [5.52      ],\n",
       "        [8.76      ],\n",
       "        [8.69      ],\n",
       "        [5.75      ],\n",
       "        [8.93      ],\n",
       "        [5.39      ],\n",
       "        [5.65      ],\n",
       "        [5.49      ],\n",
       "        [7.26      ],\n",
       "        [6.35      ],\n",
       "        [7.72      ],\n",
       "        [8.88      ],\n",
       "        [5.45      ],\n",
       "        [7.86      ],\n",
       "        [8.26      ],\n",
       "        [5.07      ],\n",
       "        [8.25      ],\n",
       "        [5.37      ],\n",
       "        [5.11      ],\n",
       "        [6.35      ],\n",
       "        [7.41      ],\n",
       "        [7.31      ],\n",
       "        [6.04      ],\n",
       "        [5.11      ],\n",
       "        [6.56      ],\n",
       "        [5.09      ],\n",
       "        [5.88      ],\n",
       "        [8.34      ],\n",
       "        [7.94      ],\n",
       "        [6.66      ],\n",
       "        [6.01      ],\n",
       "        [6.88      ],\n",
       "        [5.63      ],\n",
       "        [5.88      ],\n",
       "        [8.05      ],\n",
       "        [5.33      ],\n",
       "        [8.79      ],\n",
       "        [7.52      ],\n",
       "        [8.2       ],\n",
       "        [5.44      ],\n",
       "        [7.9       ],\n",
       "        [7.69      ],\n",
       "        [6.09      ],\n",
       "        [6.99594872],\n",
       "        [5.2       ],\n",
       "        [8.88      ],\n",
       "        [8.07      ],\n",
       "        [6.24      ],\n",
       "        [7.95      ],\n",
       "        [8.26      ],\n",
       "        [7.31      ],\n",
       "        [7.23      ],\n",
       "        [6.46      ],\n",
       "        [5.34      ],\n",
       "        [5.72      ],\n",
       "        [5.84      ],\n",
       "        [5.02      ],\n",
       "        [7.98      ],\n",
       "        [6.37      ],\n",
       "        [6.92      ],\n",
       "        [7.95      ],\n",
       "        [7.12      ],\n",
       "        [5.79      ],\n",
       "        [5.4       ],\n",
       "        [8.83      ],\n",
       "        [5.69      ],\n",
       "        [6.6       ],\n",
       "        [6.52      ],\n",
       "        [8.31      ],\n",
       "        [6.99594872],\n",
       "        [7.62      ],\n",
       "        [8.69      ],\n",
       "        [8.75      ],\n",
       "        [6.46      ],\n",
       "        [7.14      ],\n",
       "        [6.38      ],\n",
       "        [6.33      ],\n",
       "        [5.64      ],\n",
       "        [5.26      ],\n",
       "        [6.83      ],\n",
       "        [5.76      ],\n",
       "        [6.51      ],\n",
       "        [8.33      ],\n",
       "        [8.16      ],\n",
       "        [5.14      ],\n",
       "        [8.71      ],\n",
       "        [8.6       ],\n",
       "        [8.6       ],\n",
       "        [7.43      ],\n",
       "        [7.81      ],\n",
       "        [6.51      ],\n",
       "        [8.11      ],\n",
       "        [8.95      ],\n",
       "        [7.99      ],\n",
       "        [5.92      ],\n",
       "        [8.3       ],\n",
       "        [8.97      ],\n",
       "        [5.39      ],\n",
       "        [6.77      ],\n",
       "        [8.08      ],\n",
       "        [5.24      ],\n",
       "        [6.93      ],\n",
       "        [5.14      ],\n",
       "        [8.39      ],\n",
       "        [6.18      ],\n",
       "        [7.53      ],\n",
       "        [7.86      ],\n",
       "        [7.7       ],\n",
       "        [7.3       ],\n",
       "        [7.79      ],\n",
       "        [6.75      ],\n",
       "        [7.87      ],\n",
       "        [5.38      ],\n",
       "        [7.8       ],\n",
       "        [5.07      ],\n",
       "        [7.95      ],\n",
       "        [8.35      ],\n",
       "        [5.19      ],\n",
       "        [7.19      ],\n",
       "        [7.35      ],\n",
       "        [5.22      ],\n",
       "        [5.39      ],\n",
       "        [5.39      ],\n",
       "        [8.93      ],\n",
       "        [5.79      ],\n",
       "        [8.42      ],\n",
       "        [7.26      ],\n",
       "        [6.97      ],\n",
       "        [5.55      ],\n",
       "        [8.66      ],\n",
       "        [8.61      ],\n",
       "        [5.22      ],\n",
       "        [8.05      ],\n",
       "        [8.87      ],\n",
       "        [5.54      ],\n",
       "        [6.99594872],\n",
       "        [7.26      ],\n",
       "        [5.79      ],\n",
       "        [5.22      ],\n",
       "        [8.71      ],\n",
       "        [7.55      ],\n",
       "        [6.35      ],\n",
       "        [7.53      ],\n",
       "        [8.56      ],\n",
       "        [8.94      ],\n",
       "        [6.6       ],\n",
       "        [8.35      ]]),\n",
       " array([[78.5 ],\n",
       "        [76.74],\n",
       "        [78.68],\n",
       "        [71.82],\n",
       "        [84.19],\n",
       "        [81.18],\n",
       "        [76.99],\n",
       "        [85.46],\n",
       "        [70.66],\n",
       "        [77.82],\n",
       "        [75.37],\n",
       "        [83.88],\n",
       "        [79.5 ],\n",
       "        [80.76],\n",
       "        [83.08],\n",
       "        [76.03],\n",
       "        [76.04],\n",
       "        [85.11],\n",
       "        [82.5 ],\n",
       "        [80.58],\n",
       "        [82.18],\n",
       "        [83.36],\n",
       "        [70.67],\n",
       "        [75.02],\n",
       "        [70.96],\n",
       "        [83.33],\n",
       "        [74.75],\n",
       "        [75.65],\n",
       "        [74.15],\n",
       "        [80.17],\n",
       "        [82.27],\n",
       "        [76.14],\n",
       "        [71.1 ],\n",
       "        [84.35],\n",
       "        [83.08],\n",
       "        [76.76],\n",
       "        [81.24],\n",
       "        [78.21],\n",
       "        [73.08],\n",
       "        [83.23],\n",
       "        [70.27],\n",
       "        [86.41],\n",
       "        [71.1 ],\n",
       "        [82.84],\n",
       "        [82.38],\n",
       "        [72.96],\n",
       "        [77.46],\n",
       "        [70.11],\n",
       "        [72.38],\n",
       "        [71.41],\n",
       "        [72.22],\n",
       "        [77.77],\n",
       "        [84.44],\n",
       "        [71.45],\n",
       "        [82.21],\n",
       "        [85.48],\n",
       "        [75.03],\n",
       "        [86.65],\n",
       "        [70.9 ],\n",
       "        [71.7 ],\n",
       "        [73.61],\n",
       "        [79.41],\n",
       "        [76.19],\n",
       "        [80.43],\n",
       "        [85.78],\n",
       "        [70.06],\n",
       "        [81.25],\n",
       "        [81.7 ],\n",
       "        [69.27],\n",
       "        [82.79],\n",
       "        [71.8 ],\n",
       "        [71.79],\n",
       "        [74.97],\n",
       "        [78.61],\n",
       "        [77.59],\n",
       "        [72.33],\n",
       "        [72.08],\n",
       "        [77.33],\n",
       "        [70.05],\n",
       "        [73.34],\n",
       "        [84.  ],\n",
       "        [82.93],\n",
       "        [76.63],\n",
       "        [75.36],\n",
       "        [77.29],\n",
       "        [72.87],\n",
       "        [73.4 ],\n",
       "        [81.74],\n",
       "        [71.85],\n",
       "        [84.6 ],\n",
       "        [79.56],\n",
       "        [82.1 ],\n",
       "        [72.08],\n",
       "        [79.1 ],\n",
       "        [81.01],\n",
       "        [76.48],\n",
       "        [75.39],\n",
       "        [68.57],\n",
       "        [83.64],\n",
       "        [82.3 ],\n",
       "        [75.18],\n",
       "        [82.03],\n",
       "        [82.99],\n",
       "        [79.26],\n",
       "        [77.55],\n",
       "        [77.07],\n",
       "        [72.1 ],\n",
       "        [73.25],\n",
       "        [74.25],\n",
       "        [70.58],\n",
       "        [81.08],\n",
       "        [75.04],\n",
       "        [76.38],\n",
       "        [80.86],\n",
       "        [78.42],\n",
       "        [74.44],\n",
       "        [70.34],\n",
       "        [85.04],\n",
       "        [73.61],\n",
       "        [75.55],\n",
       "        [76.2 ],\n",
       "        [82.69],\n",
       "        [76.83],\n",
       "        [79.53],\n",
       "        [83.57],\n",
       "        [85.95],\n",
       "        [76.02],\n",
       "        [77.65],\n",
       "        [77.01],\n",
       "        [74.49],\n",
       "        [73.19],\n",
       "        [71.86],\n",
       "        [75.8 ],\n",
       "        [72.46],\n",
       "        [78.39],\n",
       "        [83.48],\n",
       "        [83.15],\n",
       "        [71.22],\n",
       "        [85.98],\n",
       "        [83.91],\n",
       "        [84.58],\n",
       "        [80.31],\n",
       "        [82.55],\n",
       "        [75.52],\n",
       "        [83.82],\n",
       "        [85.15],\n",
       "        [82.75],\n",
       "        [74.34],\n",
       "        [82.02],\n",
       "        [86.12],\n",
       "        [71.87],\n",
       "        [76.7 ],\n",
       "        [81.7 ],\n",
       "        [70.78],\n",
       "        [78.45],\n",
       "        [70.2 ],\n",
       "        [83.37],\n",
       "        [75.52],\n",
       "        [81.57],\n",
       "        [80.72],\n",
       "        [80.81],\n",
       "        [79.49],\n",
       "        [79.17],\n",
       "        [77.07],\n",
       "        [82.04],\n",
       "        [71.94],\n",
       "        [81.6 ],\n",
       "        [70.79],\n",
       "        [82.68],\n",
       "        [83.08],\n",
       "        [71.18],\n",
       "        [77.63],\n",
       "        [77.78],\n",
       "        [70.4 ],\n",
       "        [73.02],\n",
       "        [71.11],\n",
       "        [85.96],\n",
       "        [73.64],\n",
       "        [84.24],\n",
       "        [78.17],\n",
       "        [77.19],\n",
       "        [71.83],\n",
       "        [86.99],\n",
       "        [83.87],\n",
       "        [71.5 ],\n",
       "        [79.63],\n",
       "        [85.1 ],\n",
       "        [72.01],\n",
       "        [77.27],\n",
       "        [79.87],\n",
       "        [73.14],\n",
       "        [70.51],\n",
       "        [84.03],\n",
       "        [79.64],\n",
       "        [74.24],\n",
       "        [81.67],\n",
       "        [84.68],\n",
       "        [86.75],\n",
       "        [78.05],\n",
       "        [83.5 ]]))"
      ]
     },
     "execution_count": 11,
     "metadata": {},
     "output_type": "execute_result"
    }
   ],
   "source": [
    "x,y"
   ]
  },
  {
   "cell_type": "markdown",
   "id": "38d65ac9",
   "metadata": {},
   "source": [
    "Now that we have our attributes and labels, the next step is to split this data into training and test sets. We'll do this by  using Scikit-Learns built-in train_test_split() method:"
   ]
  },
  {
   "cell_type": "code",
   "execution_count": 12,
   "id": "e83d5914",
   "metadata": {},
   "outputs": [],
   "source": [
    "from sklearn.model_selection import train_test_split\n",
    "x_train, x_test, y_train, y_test= train_test_split(x,y,test_size=.2,random_state=0)"
   ]
  },
  {
   "cell_type": "markdown",
   "id": "7b97be45",
   "metadata": {},
   "source": [
    "##### Random_state is basically used for reproducing your problem the same every time it is run. If you do not use a random_state in train_test_split, every time you make the split you might get a different set of train and test data points and will not help you in debugging in case you get an issue."
   ]
  },
  {
   "cell_type": "markdown",
   "id": "c7173dec",
   "metadata": {},
   "source": [
    "# Training the model"
   ]
  },
  {
   "cell_type": "markdown",
   "id": "5f12bcec",
   "metadata": {},
   "source": [
    "Now, As we have split our data into training and testing sets,Hence its finally the time to train our Algorithm"
   ]
  },
  {
   "cell_type": "code",
   "execution_count": 13,
   "id": "117a4c17",
   "metadata": {},
   "outputs": [
    {
     "name": "stdout",
     "output_type": "stream",
     "text": [
      "Training Complete\n"
     ]
    }
   ],
   "source": [
    "from sklearn.linear_model import LinearRegression\n",
    "\n",
    "regressor = LinearRegression()\n",
    "regressor.fit(x_train,y_train) # This code fits/ trains our model\n",
    "\n",
    "print(\"Training Complete\")"
   ]
  },
  {
   "cell_type": "code",
   "execution_count": 14,
   "id": "82909186",
   "metadata": {},
   "outputs": [
    {
     "data": {
      "image/png": "[encoded data removed]",
      "text/plain": [
       "<Figure size 432x288 with 1 Axes>"
      ]
     },
     "metadata": {
      "needs_background": "light"
     },
     "output_type": "display_data"
    }
   ],
   "source": [
    "# PLotting the regression line \n",
    "line = regressor.coef_*x+regressor.intercept_ \n",
    "# its in the form y= mx + c( y=line, slope= regressor.coef_ & c=regressor.intercept_ )\n",
    "\n",
    "#Plotting for the test data\n",
    "plt.scatter(x,y)\n",
    "plt.plot(x,line)\n",
    "plt.title('Comparision')\n",
    "plt.show()"
   ]
  },
  {
   "cell_type": "markdown",
   "id": "ef558e4b",
   "metadata": {},
   "source": [
    "## Making Predictions"
   ]
  },
  {
   "cell_type": "markdown",
   "id": "fbac5719",
   "metadata": {},
   "source": [
    "Now that we have trained our algorithm, it's time to make some predicitons"
   ]
  },
  {
   "cell_type": "code",
   "execution_count": 15,
   "id": "e38e4b11",
   "metadata": {},
   "outputs": [
    {
     "name": "stdout",
     "output_type": "stream",
     "text": [
      "[[8.41      ]\n",
      " [5.19      ]\n",
      " [5.72      ]\n",
      " [8.88      ]\n",
      " [5.79      ]\n",
      " [8.66      ]\n",
      " [7.55      ]\n",
      " [7.99      ]\n",
      " [7.75      ]\n",
      " [8.08      ]\n",
      " [7.26      ]\n",
      " [8.75      ]\n",
      " [6.97      ]\n",
      " [6.93      ]\n",
      " [8.34      ]\n",
      " [8.99      ]\n",
      " [8.78      ]\n",
      " [5.64      ]\n",
      " [7.19      ]\n",
      " [7.31      ]\n",
      " [8.61      ]\n",
      " [8.95      ]\n",
      " [6.18      ]\n",
      " [7.86      ]\n",
      " [5.49      ]\n",
      " [7.62      ]\n",
      " [7.26      ]\n",
      " [8.05      ]\n",
      " [6.99594872]\n",
      " [8.09      ]\n",
      " [6.36      ]\n",
      " [8.69      ]\n",
      " [5.39      ]\n",
      " [6.37      ]\n",
      " [5.05      ]\n",
      " [7.26      ]\n",
      " [6.33      ]\n",
      " [8.67      ]\n",
      " [6.01      ]\n",
      " [5.34      ]]\n"
     ]
    }
   ],
   "source": [
    "print(x_test) #Testing data -- IN hours\n",
    "y_pred= regressor.predict(x_test)# Predicting the scores"
   ]
  },
  {
   "cell_type": "code",
   "execution_count": 16,
   "id": "f8d50b39",
   "metadata": {},
   "outputs": [
    {
     "data": {
      "text/plain": [
       "(array([[82.5 ],\n",
       "        [71.18],\n",
       "        [73.25],\n",
       "        [83.64],\n",
       "        [73.64],\n",
       "        [86.99],\n",
       "        [81.18],\n",
       "        [82.75],\n",
       "        [79.5 ],\n",
       "        [81.7 ],\n",
       "        [79.41],\n",
       "        [85.95],\n",
       "        [77.19],\n",
       "        [78.45],\n",
       "        [84.  ],\n",
       "        [85.46],\n",
       "        [84.35],\n",
       "        [73.19],\n",
       "        [78.21],\n",
       "        [77.59],\n",
       "        [83.87],\n",
       "        [85.15],\n",
       "        [72.96],\n",
       "        [80.72],\n",
       "        [73.61],\n",
       "        [79.53],\n",
       "        [78.17],\n",
       "        [79.63],\n",
       "        [76.83],\n",
       "        [82.38],\n",
       "        [76.04],\n",
       "        [85.48],\n",
       "        [71.87],\n",
       "        [75.04],\n",
       "        [70.67],\n",
       "        [79.87],\n",
       "        [74.49],\n",
       "        [84.19],\n",
       "        [75.36],\n",
       "        [72.1 ]]),\n",
       " array([[83.50507271],\n",
       "        [70.84927186],\n",
       "        [72.93236952],\n",
       "        [85.35234799],\n",
       "        [73.20749562],\n",
       "        [84.48766595],\n",
       "        [80.12495199],\n",
       "        [81.85431608],\n",
       "        [80.91102657],\n",
       "        [82.20804964],\n",
       "        [78.98514384],\n",
       "        [84.84139951],\n",
       "        [77.84533568],\n",
       "        [77.68812077],\n",
       "        [83.22994661],\n",
       "        [85.78468901],\n",
       "        [84.9593107 ],\n",
       "        [72.61793968],\n",
       "        [78.71001773],\n",
       "        [79.18166248],\n",
       "        [84.2911473 ],\n",
       "        [85.6274741 ],\n",
       "        [74.74034107],\n",
       "        [81.3433676 ],\n",
       "        [72.02838374],\n",
       "        [80.40007809],\n",
       "        [78.98514384],\n",
       "        [82.09013845],\n",
       "        [77.94732382],\n",
       "        [82.24735337],\n",
       "        [75.44780819],\n",
       "        [84.60557713],\n",
       "        [71.63534645],\n",
       "        [75.48711192],\n",
       "        [70.29901965],\n",
       "        [78.98514384],\n",
       "        [75.32989701],\n",
       "        [84.52696967],\n",
       "        [74.07217767],\n",
       "        [71.4388278 ]]))"
      ]
     },
     "execution_count": 16,
     "metadata": {},
     "output_type": "execute_result"
    }
   ],
   "source": [
    "y_test, y_pred"
   ]
  },
  {
   "cell_type": "markdown",
   "id": "542f5dff",
   "metadata": {},
   "source": [
    "### *Here as y_test and y_pred are 2-D arrays, Hence While Passing as an arg in a dictionary it throws \"ValueError: If using all scalar values, you must pass an index\"and \"its Dimension must be 1 Dimensional\" Errors. Hence we need to convert that 2-D array to 1-D array using flatten()"
   ]
  },
  {
   "cell_type": "code",
   "execution_count": 17,
   "id": "eb21cc32",
   "metadata": {
    "scrolled": false
   },
   "outputs": [
    {
     "data": {
      "text/html": [
       "<div>\n",
       "<style scoped>\n",
       "    .dataframe tbody tr th:only-of-type {\n",
       "        vertical-align: middle;\n",
       "    }\n",
       "\n",
       "    .dataframe tbody tr th {\n",
       "        vertical-align: top;\n",
       "    }\n",
       "\n",
       "    .dataframe thead th {\n",
       "        text-align: right;\n",
       "    }\n",
       "</style>\n",
       "<table border=\"1\" class=\"dataframe\">\n",
       "  <thead>\n",
       "    <tr style=\"text-align: right;\">\n",
       "      <th></th>\n",
       "      <th>Actual</th>\n",
       "      <th>Predicted</th>\n",
       "    </tr>\n",
       "  </thead>\n",
       "  <tbody>\n",
       "    <tr>\n",
       "      <th>0</th>\n",
       "      <td>82.50</td>\n",
       "      <td>83.505073</td>\n",
       "    </tr>\n",
       "    <tr>\n",
       "      <th>1</th>\n",
       "      <td>71.18</td>\n",
       "      <td>70.849272</td>\n",
       "    </tr>\n",
       "    <tr>\n",
       "      <th>2</th>\n",
       "      <td>73.25</td>\n",
       "      <td>72.932370</td>\n",
       "    </tr>\n",
       "    <tr>\n",
       "      <th>3</th>\n",
       "      <td>83.64</td>\n",
       "      <td>85.352348</td>\n",
       "    </tr>\n",
       "    <tr>\n",
       "      <th>4</th>\n",
       "      <td>73.64</td>\n",
       "      <td>73.207496</td>\n",
       "    </tr>\n",
       "  </tbody>\n",
       "</table>\n",
       "</div>"
      ],
      "text/plain": [
       "   Actual  Predicted\n",
       "0   82.50  83.505073\n",
       "1   71.18  70.849272\n",
       "2   73.25  72.932370\n",
       "3   83.64  85.352348\n",
       "4   73.64  73.207496"
      ]
     },
     "execution_count": 17,
     "metadata": {},
     "output_type": "execute_result"
    }
   ],
   "source": [
    "df_compar=pd.DataFrame({'Actual':y_test.flatten(),'Predicted':y_pred.flatten()})\n",
    "df_compar.head()"
   ]
  },
  {
   "cell_type": "code",
   "execution_count": 18,
   "id": "05157d61",
   "metadata": {},
   "outputs": [
    {
     "name": "stdout",
     "output_type": "stream",
     "text": [
      "No of hours=7\n",
      "Predicted Score=77.96324687251035\n"
     ]
    }
   ],
   "source": [
    "score_pred=np.array([7])\n",
    "score_pred=score_pred.reshape(-1,1)\n",
    "predict=regressor.predict(score_pred)\n",
    "print(\"No of hours={}\".format(7))\n",
    "print(\"Predicted Score={}\".format(predict[0][0]))"
   ]
  },
  {
   "cell_type": "markdown",
   "id": "7f53f322",
   "metadata": {},
   "source": [
    "## Evaluating the Model"
   ]
  },
  {
   "cell_type": "markdown",
   "id": "601b2978",
   "metadata": {},
   "source": [
    "The final step is to evaluate the performance of algorithm. This Step is particularly\n",
    "important to compare how well different algorithms performed on particular\n",
    "dataset. For simplicity here, we have chosen the mean absolute error.\n",
    "THere are many such metrics"
   ]
  },
  {
   "cell_type": "markdown",
   "id": "55590e4a",
   "metadata": {},
   "source": [
    "Mean Squared Error(MSE) and Root Mean Square Error penalizes the large prediction errors vi-a-vis Mean Absolute Error (MAE). ... MAE is more robust to data with outliers. The lower value of MAE, MSE, and RMSE implies higher accuracy of a regression model. However, a higher value of R square is considered desirable."
   ]
  },
  {
   "cell_type": "markdown",
   "id": "d3774dcd",
   "metadata": {},
   "source": [
    "Here We can use MAE as there could be the fear of outliers"
   ]
  },
  {
   "cell_type": "code",
   "execution_count": 19,
   "id": "b455058d",
   "metadata": {},
   "outputs": [
    {
     "name": "stdout",
     "output_type": "stream",
     "text": [
      "Mean Absolute Error: 0.8574561538746253\n"
     ]
    }
   ],
   "source": [
    "from sklearn import metrics\n",
    "print('Mean Absolute Error:',\n",
    "      metrics.mean_absolute_error(y_test,y_pred))"
   ]
  },
  {
   "cell_type": "code",
   "execution_count": null,
   "id": "36bf940c",
   "metadata": {},
   "outputs": [],
   "source": []
  }
 ],
 "metadata": {
  "kernelspec": {
   "display_name": "Python 3",
   "language": "python",
   "name": "python3"
  },
  "language_info": {
   "codemirror_mode": {
    "name": "ipython",
    "version": 3
   },
   "file_extension": ".py",
   "mimetype": "text/x-python",
   "name": "python",
   "nbconvert_exporter": "python",
   "pygments_lexer": "ipython3",
   "version": "3.8.8"
  }
 },
 "nbformat": 4,
 "nbformat_minor": 5
}
